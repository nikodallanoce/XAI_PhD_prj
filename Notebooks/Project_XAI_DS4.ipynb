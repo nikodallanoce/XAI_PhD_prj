{
  "cells": [
    {
      "cell_type": "markdown",
      "metadata": {
        "id": "view-in-github",
        "colab_type": "text"
      },
      "source": [
        "<a href=\"https://colab.research.google.com/github/nikodallanoce/XAI_PhD_prj/blob/master/Project_XAI_DS4.ipynb\" target=\"_parent\"><img src=\"https://colab.research.google.com/assets/colab-badge.svg\" alt=\"Open In Colab\"/></a>"
      ]
    },
    {
      "cell_type": "code",
      "source": [
        "! git clone https://github.com/nikodallanoce/XAI_PhD_prj.git\n",
        "! git clone https://github.com/pellungrobe/XAI_course_2024.git"
      ],
      "metadata": {
        "id": "hYQz8wnSstRa",
        "outputId": "78ab244d-7cb8-4b54-fd4e-349be1b72cec",
        "colab": {
          "base_uri": "https://localhost:8080/"
        }
      },
      "id": "hYQz8wnSstRa",
      "execution_count": 1,
      "outputs": [
        {
          "output_type": "stream",
          "name": "stdout",
          "text": [
            "Cloning into 'XAI_PhD_prj'...\n",
            "remote: Enumerating objects: 29, done.\u001b[K\n",
            "remote: Counting objects: 100% (8/8), done.\u001b[K\n",
            "remote: Compressing objects: 100% (4/4), done.\u001b[K\n",
            "remote: Total 29 (delta 2), reused 8 (delta 2), pack-reused 21\u001b[K\n",
            "Receiving objects: 100% (29/29), 157.62 MiB | 23.99 MiB/s, done.\n",
            "Resolving deltas: 100% (9/9), done.\n",
            "Updating files: 100% (8/8), done.\n",
            "Cloning into 'XAI_course_2024'...\n",
            "remote: Enumerating objects: 4098, done.\u001b[K\n",
            "remote: Counting objects: 100% (48/48), done.\u001b[K\n",
            "remote: Compressing objects: 100% (22/22), done.\u001b[K\n",
            "remote: Total 4098 (delta 30), reused 36 (delta 26), pack-reused 4050\u001b[K\n",
            "Receiving objects: 100% (4098/4098), 1006.87 MiB | 26.11 MiB/s, done.\n",
            "Resolving deltas: 100% (450/450), done.\n",
            "Updating files: 100% (3055/3055), done.\n"
          ]
        }
      ]
    },
    {
      "cell_type": "code",
      "source": [
        "! pip install lightning > /dev/null"
      ],
      "metadata": {
        "id": "e7jeP80Fs39h"
      },
      "id": "e7jeP80Fs39h",
      "execution_count": 2,
      "outputs": []
    },
    {
      "cell_type": "code",
      "source": [
        "! gdown --fuzzy https://drive.google.com/file/d/1cgEKSkQ-LQX4VYa-oRliY0W6B3XsQKAi/view?usp=sharing\n",
        "! 7z x \"/content/New Plant Diseases Dataset(Augmented).zip\" #contains only validation and test set."
      ],
      "metadata": {
        "id": "6I4fGb4OtNRG",
        "outputId": "c9191019-6161-47c7-81d4-d774c9112105",
        "colab": {
          "base_uri": "https://localhost:8080/"
        }
      },
      "id": "6I4fGb4OtNRG",
      "execution_count": 3,
      "outputs": [
        {
          "output_type": "stream",
          "name": "stdout",
          "text": [
            "Downloading...\n",
            "From (original): https://drive.google.com/uc?id=1cgEKSkQ-LQX4VYa-oRliY0W6B3XsQKAi\n",
            "From (redirected): https://drive.google.com/uc?id=1cgEKSkQ-LQX4VYa-oRliY0W6B3XsQKAi&confirm=t&uuid=23a75ed8-dcf3-4ca7-88b7-d1252ee37940\n",
            "To: /content/New Plant Diseases Dataset(Augmented).zip\n",
            "100% 289M/289M [00:01<00:00, 236MB/s]\n",
            "\n",
            "7-Zip [64] 16.02 : Copyright (c) 1999-2016 Igor Pavlov : 2016-05-21\n",
            "p7zip Version 16.02 (locale=en_US.UTF-8,Utf16=on,HugeFiles=on,64 bits,2 CPUs Intel(R) Xeon(R) CPU @ 2.30GHz (306F0),ASM,AES-NI)\n",
            "\n",
            "Scanning the drive for archives:\n",
            "  0M Scan /content/\b\b\b\b\b\b\b\b\b\b\b\b\b\b\b\b\b\b\b                   \b\b\b\b\b\b\b\b\b\b\b\b\b\b\b\b\b\b\b1 file, 289378688 bytes (276 MiB)\n",
            "\n",
            "Extracting archive: /content/New Plant Diseases Dataset(Augmented).zip\n",
            " 23% 4096 Open\b\b\b\b\b\b\b\b\b\b\b\b\b\b              \b\b\b\b\b\b\b\b\b\b\b\b\b\b--\n",
            "Path = /content/New Plant Diseases Dataset(Augmented).zip\n",
            "Type = zip\n",
            "Physical Size = 289378688\n",
            "\n",
            "  0%\b\b\b\b    \b\b\b\b  2% 577 - New Plant Diseases Dataset(Au . 14___JR_FrgE.S 8627_270deg.JPG\b\b\b\b\b\b\b\b\b\b\b\b\b\b\b\b\b\b\b\b\b\b\b\b\b\b\b\b\b\b\b\b\b\b\b\b\b\b\b\b\b\b\b\b\b\b\b\b\b\b\b\b\b\b\b\b\b\b\b\b\b\b\b\b\b\b\b\b\b\b\b\b\b                                                                         \b\b\b\b\b\b\b\b\b\b\b\b\b\b\b\b\b\b\b\b\b\b\b\b\b\b\b\b\b\b\b\b\b\b\b\b\b\b\b\b\b\b\b\b\b\b\b\b\b\b\b\b\b\b\b\b\b\b\b\b\b\b\b\b\b\b\b\b\b\b\b\b\b  6% 1099 - New Plant Diseases Dataset(Au . 4d5bcfd___FREC_C.Rust 3841.JPG\b\b\b\b\b\b\b\b\b\b\b\b\b\b\b\b\b\b\b\b\b\b\b\b\b\b\b\b\b\b\b\b\b\b\b\b\b\b\b\b\b\b\b\b\b\b\b\b\b\b\b\b\b\b\b\b\b\b\b\b\b\b\b\b\b\b\b\b\b\b\b\b\b\b                                                                          \b\b\b\b\b\b\b\b\b\b\b\b\b\b\b\b\b\b\b\b\b\b\b\b\b\b\b\b\b\b\b\b\b\b\b\b\b\b\b\b\b\b\b\b\b\b\b\b\b\b\b\b\b\b\b\b\b\b\b\b\b\b\b\b\b\b\b\b\b\b\b\b\b\b  8% 1756 - New Plant Diseases Dataset(Augm . cb13fd5b___RS_HL 5947_flipTB.JPG\b\b\b\b\b\b\b\b\b\b\b\b\b\b\b\b\b\b\b\b\b\b\b\b\b\b\b\b\b\b\b\b\b\b\b\b\b\b\b\b\b\b\b\b\b\b\b\b\b\b\b\b\b\b\b\b\b\b\b\b\b\b\b\b\b\b\b\b\b\b\b\b\b\b\b\b\b\b                                                                              \b\b\b\b\b\b\b\b\b\b\b\b\b\b\b\b\b\b\b\b\b\b\b\b\b\b\b\b\b\b\b\b\b\b\b\b\b\b\b\b\b\b\b\b\b\b\b\b\b\b\b\b\b\b\b\b\b\b\b\b\b\b\b\b\b\b\b\b\b\b\b\b\b\b\b\b\b\b 11% 2307 - New Plant Diseases Dataset(Augm . 0-afdda3e28f29___RS_HL 2457.JPG\b\b\b\b\b\b\b\b\b\b\b\b\b\b\b\b\b\b\b\b\b\b\b\b\b\b\b\b\b\b\b\b\b\b\b\b\b\b\b\b\b\b\b\b\b\b\b\b\b\b\b\b\b\b\b\b\b\b\b\b\b\b\b\b\b\b\b\b\b\b\b\b\b\b\b\b\b                                                                             \b\b\b\b\b\b\b\b\b\b\b\b\b\b\b\b\b\b\b\b\b\b\b\b\b\b\b\b\b\b\b\b\b\b\b\b\b\b\b\b\b\b\b\b\b\b\b\b\b\b\b\b\b\b\b\b\b\b\b\b\b\b\b\b\b\b\b\b\b\b\b\b\b\b\b\b\b 15% 2868 - New Plant Diseases Dataset(Augm . da76bfd6___JR_HL 9638_flipTB.JPG\b\b\b\b\b\b\b\b\b\b\b\b\b\b\b\b\b\b\b\b\b\b\b\b\b\b\b\b\b\b\b\b\b\b\b\b\b\b\b\b\b\b\b\b\b\b\b\b\b\b\b\b\b\b\b\b\b\b\b\b\b\b\b\b\b\b\b\b\b\b\b\b\b\b\b\b\b\b                                                                              \b\b\b\b\b\b\b\b\b\b\b\b\b\b\b\b\b\b\b\b\b\b\b\b\b\b\b\b\b\b\b\b\b\b\b\b\b\b\b\b\b\b\b\b\b\b\b\b\b\b\b\b\b\b\b\b\b\b\b\b\b\b\b\b\b\b\b\b\b\b\b\b\b\b\b\b\b\b 17% 3502 - New Plant Diseases Dataset(Augm . e1e074f___RS_GLSp 7279_90deg.JPG\b\b\b\b\b\b\b\b\b\b\b\b\b\b\b\b\b\b\b\b\b\b\b\b\b\b\b\b\b\b\b\b\b\b\b\b\b\b\b\b\b\b\b\b\b\b\b\b\b\b\b\b\b\b\b\b\b\b\b\b\b\b\b\b\b\b\b\b\b\b\b\b\b\b\b\b\b\b                                                                              \b\b\b\b\b\b\b\b\b\b\b\b\b\b\b\b\b\b\b\b\b\b\b\b\b\b\b\b\b\b\b\b\b\b\b\b\b\b\b\b\b\b\b\b\b\b\b\b\b\b\b\b\b\b\b\b\b\b\b\b\b\b\b\b\b\b\b\b\b\b\b\b\b\b\b\b\b\b 19% 3732 - New Plant Diseases Dataset(Augm . 84a56fc___RS_GLSp 4375_90deg.JPG\b\b\b\b\b\b\b\b\b\b\b\b\b\b\b\b\b\b\b\b\b\b\b\b\b\b\b\b\b\b\b\b\b\b\b\b\b\b\b\b\b\b\b\b\b\b\b\b\b\b\b\b\b\b\b\b\b\b\b\b\b\b\b\b\b\b\b\b\b\b\b\b\b\b\b\b\b\b                                                                              \b\b\b\b\b\b\b\b\b\b\b\b\b\b\b\b\b\b\b\b\b\b\b\b\b\b\b\b\b\b\b\b\b\b\b\b\b\b\b\b\b\b\b\b\b\b\b\b\b\b\b\b\b\b\b\b\b\b\b\b\b\b\b\b\b\b\b\b\b\b\b\b\b\b\b\b\b\b 21% 4126 - New Plant Diseases Dataset(A . rust_/RS_Rust 2542_flipLR.JPG\b\b\b\b\b\b\b\b\b\b\b\b\b\b\b\b\b\b\b\b\b\b\b\b\b\b\b\b\b\b\b\b\b\b\b\b\b\b\b\b\b\b\b\b\b\b\b\b\b\b\b\b\b\b\b\b\b\b\b\b\b\b\b\b\b\b\b\b\b\b\b\b                                                                        \b\b\b\b\b\b\b\b\b\b\b\b\b\b\b\b\b\b\b\b\b\b\b\b\b\b\b\b\b\b\b\b\b\b\b\b\b\b\b\b\b\b\b\b\b\b\b\b\b\b\b\b\b\b\b\b\b\b\b\b\b\b\b\b\b\b\b\b\b\b\b\b 22% 4505 - New Plant Diseases Dataset(Au . d69cf___R.S_HL 0634 copy 4.jpg\b\b\b\b\b\b\b\b\b\b\b\b\b\b\b\b\b\b\b\b\b\b\b\b\b\b\b\b\b\b\b\b\b\b\b\b\b\b\b\b\b\b\b\b\b\b\b\b\b\b\b\b\b\b\b\b\b\b\b\b\b\b\b\b\b\b\b\b\b\b\b\b\b\b                                                                          \b\b\b\b\b\b\b\b\b\b\b\b\b\b\b\b\b\b\b\b\b\b\b\b\b\b\b\b\b\b\b\b\b\b\b\b\b\b\b\b\b\b\b\b\b\b\b\b\b\b\b\b\b\b\b\b\b\b\b\b\b\b\b\b\b\b\b\b\b\b\b\b\b\b 24% 4851 - New Plant Diseases Dataset(A . 9994___RS_NLB 4665_flipTB.JPG\b\b\b\b\b\b\b\b\b\b\b\b\b\b\b\b\b\b\b\b\b\b\b\b\b\b\b\b\b\b\b\b\b\b\b\b\b\b\b\b\b\b\b\b\b\b\b\b\b\b\b\b\b\b\b\b\b\b\b\b\b\b\b\b\b\b\b\b\b\b\b\b                                                                        \b\b\b\b\b\b\b\b\b\b\b\b\b\b\b\b\b\b\b\b\b\b\b\b\b\b\b\b\b\b\b\b\b\b\b\b\b\b\b\b\b\b\b\b\b\b\b\b\b\b\b\b\b\b\b\b\b\b\b\b\b\b\b\b\b\b\b\b\b\b\b\b 25% 5135\b\b\b\b\b\b\b\b\b         \b\b\b\b\b\b\b\b\b 27% 5507 - New Plant Diseases Dataset(Au . f7___FAM_B.Rot 0537_flipLR.JPG\b\b\b\b\b\b\b\b\b\b\b\b\b\b\b\b\b\b\b\b\b\b\b\b\b\b\b\b\b\b\b\b\b\b\b\b\b\b\b\b\b\b\b\b\b\b\b\b\b\b\b\b\b\b\b\b\b\b\b\b\b\b\b\b\b\b\b\b\b\b\b\b\b\b                                                                          \b\b\b\b\b\b\b\b\b\b\b\b\b\b\b\b\b\b\b\b\b\b\b\b\b\b\b\b\b\b\b\b\b\b\b\b\b\b\b\b\b\b\b\b\b\b\b\b\b\b\b\b\b\b\b\b\b\b\b\b\b\b\b\b\b\b\b\b\b\b\b\b\b\b 29% 5842 - New Plant Diseases Dataset(Aug . a30ed9b2a___FAM_B.Msls 1797.JPG\b\b\b\b\b\b\b\b\b\b\b\b\b\b\b\b\b\b\b\b\b\b\b\b\b\b\b\b\b\b\b\b\b\b\b\b\b\b\b\b\b\b\b\b\b\b\b\b\b\b\b\b\b\b\b\b\b\b\b\b\b\b\b\b\b\b\b\b\b\b\b\b\b\b\b\b                                                                            \b\b\b\b\b\b\b\b\b\b\b\b\b\b\b\b\b\b\b\b\b\b\b\b\b\b\b\b\b\b\b\b\b\b\b\b\b\b\b\b\b\b\b\b\b\b\b\b\b\b\b\b\b\b\b\b\b\b\b\b\b\b\b\b\b\b\b\b\b\b\b\b\b\b\b\b 31% 6134 - New Plant Diseases Dataset(Augm . 5831323d54___Mt.N.V_HL 6117.JPG\b\b\b\b\b\b\b\b\b\b\b\b\b\b\b\b\b\b\b\b\b\b\b\b\b\b\b\b\b\b\b\b\b\b\b\b\b\b\b\b\b\b\b\b\b\b\b\b\b\b\b\b\b\b\b\b\b\b\b\b\b\b\b\b\b\b\b\b\b\b\b\b\b\b\b\b\b                                                                             \b\b\b\b\b\b\b\b\b\b\b\b\b\b\b\b\b\b\b\b\b\b\b\b\b\b\b\b\b\b\b\b\b\b\b\b\b\b\b\b\b\b\b\b\b\b\b\b\b\b\b\b\b\b\b\b\b\b\b\b\b\b\b\b\b\b\b\b\b\b\b\b\b\b\b\b\b 33% 6432 - New Plant Diseases Dataset(Augm . .N.V_HL 6136_new30degFlipLR.JPG\b\b\b\b\b\b\b\b\b\b\b\b\b\b\b\b\b\b\b\b\b\b\b\b\b\b\b\b\b\b\b\b\b\b\b\b\b\b\b\b\b\b\b\b\b\b\b\b\b\b\b\b\b\b\b\b\b\b\b\b\b\b\b\b\b\b\b\b\b\b\b\b\b\b\b\b\b                                                                             \b\b\b\b\b\b\b\b\b\b\b\b\b\b\b\b\b\b\b\b\b\b\b\b\b\b\b\b\b\b\b\b\b\b\b\b\b\b\b\b\b\b\b\b\b\b\b\b\b\b\b\b\b\b\b\b\b\b\b\b\b\b\b\b\b\b\b\b\b\b\b\b\b\b\b\b\b 35% 6711 - New Plant Diseases Dataset(Augm . a___FAM_L.Blight 1729_flipLR.JPG\b\b\b\b\b\b\b\b\b\b\b\b\b\b\b\b\b\b\b\b\b\b\b\b\b\b\b\b\b\b\b\b\b\b\b\b\b\b\b\b\b\b\b\b\b\b\b\b\b\b\b\b\b\b\b\b\b\b\b\b\b\b\b\b\b\b\b\b\b\b\b\b\b\b\b\b\b\b                                                                              \b\b\b\b\b\b\b\b\b\b\b\b\b\b\b\b\b\b\b\b\b\b\b\b\b\b\b\b\b\b\b\b\b\b\b\b\b\b\b\b\b\b\b\b\b\b\b\b\b\b\b\b\b\b\b\b\b\b\b\b\b\b\b\b\b\b\b\b\b\b\b\b\b\b\b\b\b\b 36% 6972 - New Plant Diseases Dataset(A . 58a654db1___CREC_HLB 5132.JPG\b\b\b\b\b\b\b\b\b\b\b\b\b\b\b\b\b\b\b\b\b\b\b\b\b\b\b\b\b\b\b\b\b\b\b\b\b\b\b\b\b\b\b\b\b\b\b\b\b\b\b\b\b\b\b\b\b\b\b\b\b\b\b\b\b\b\b\b\b\b\b\b                                                                        \b\b\b\b\b\b\b\b\b\b\b\b\b\b\b\b\b\b\b\b\b\b\b\b\b\b\b\b\b\b\b\b\b\b\b\b\b\b\b\b\b\b\b\b\b\b\b\b\b\b\b\b\b\b\b\b\b\b\b\b\b\b\b\b\b\b\b\b\b\b\b\b 37% 7165 - New Plant Diseases Dataset(A . 486b30fcf___CREC_HLB 7356.JPG\b\b\b\b\b\b\b\b\b\b\b\b\b\b\b\b\b\b\b\b\b\b\b\b\b\b\b\b\b\b\b\b\b\b\b\b\b\b\b\b\b\b\b\b\b\b\b\b\b\b\b\b\b\b\b\b\b\b\b\b\b\b\b\b\b\b\b\b\b\b\b\b                                                                        \b\b\b\b\b\b\b\b\b\b\b\b\b\b\b\b\b\b\b\b\b\b\b\b\b\b\b\b\b\b\b\b\b\b\b\b\b\b\b\b\b\b\b\b\b\b\b\b\b\b\b\b\b\b\b\b\b\b\b\b\b\b\b\b\b\b\b\b\b\b\b\b 38% 7424 - New Plant Diseases Dataset(A . cd4c11027___CREC_HLB 6529.JPG\b\b\b\b\b\b\b\b\b\b\b\b\b\b\b\b\b\b\b\b\b\b\b\b\b\b\b\b\b\b\b\b\b\b\b\b\b\b\b\b\b\b\b\b\b\b\b\b\b\b\b\b\b\b\b\b\b\b\b\b\b\b\b\b\b\b\b\b\b\b\b\b                                                                        \b\b\b\b\b\b\b\b\b\b\b\b\b\b\b\b\b\b\b\b\b\b\b\b\b\b\b\b\b\b\b\b\b\b\b\b\b\b\b\b\b\b\b\b\b\b\b\b\b\b\b\b\b\b\b\b\b\b\b\b\b\b\b\b\b\b\b\b\b\b\b\b 39% 7725 - New Plant Diseases Dataset(Au . 0b373e___Rutg._Bact.S 1382.JPG\b\b\b\b\b\b\b\b\b\b\b\b\b\b\b\b\b\b\b\b\b\b\b\b\b\b\b\b\b\b\b\b\b\b\b\b\b\b\b\b\b\b\b\b\b\b\b\b\b\b\b\b\b\b\b\b\b\b\b\b\b\b\b\b\b\b\b\b\b\b\b\b\b\b                                                                          \b\b\b\b\b\b\b\b\b\b\b\b\b\b\b\b\b\b\b\b\b\b\b\b\b\b\b\b\b\b\b\b\b\b\b\b\b\b\b\b\b\b\b\b\b\b\b\b\b\b\b\b\b\b\b\b\b\b\b\b\b\b\b\b\b\b\b\b\b\b\b\b\b\b 41% 8039 - New Plant Diseases Dataset(Au . __Rutg._HL 3754_newPixel25.JPG\b\b\b\b\b\b\b\b\b\b\b\b\b\b\b\b\b\b\b\b\b\b\b\b\b\b\b\b\b\b\b\b\b\b\b\b\b\b\b\b\b\b\b\b\b\b\b\b\b\b\b\b\b\b\b\b\b\b\b\b\b\b\b\b\b\b\b\b\b\b\b\b\b\b                                                                          \b\b\b\b\b\b\b\b\b\b\b\b\b\b\b\b\b\b\b\b\b\b\b\b\b\b\b\b\b\b\b\b\b\b\b\b\b\b\b\b\b\b\b\b\b\b\b\b\b\b\b\b\b\b\b\b\b\b\b\b\b\b\b\b\b\b\b\b\b\b\b\b\b\b 43% 8349 - New Plant Diseases Dataset(Augm . 0e1bbf34e0f___Rutg._HL 3697.JPG\b\b\b\b\b\b\b\b\b\b\b\b\b\b\b\b\b\b\b\b\b\b\b\b\b\b\b\b\b\b\b\b\b\b\b\b\b\b\b\b\b\b\b\b\b\b\b\b\b\b\b\b\b\b\b\b\b\b\b\b\b\b\b\b\b\b\b\b\b\b\b\b\b\b\b\b\b                                                                             \b\b\b\b\b\b\b\b\b\b\b\b\b\b\b\b\b\b\b\b\b\b\b\b\b\b\b\b\b\b\b\b\b\b\b\b\b\b\b\b\b\b\b\b\b\b\b\b\b\b\b\b\b\b\b\b\b\b\b\b\b\b\b\b\b\b\b\b\b\b\b\b\b\b\b\b\b 45% 8662 - New Plant Diseases Dataset(A . __NREC_B.Spot 1913_flipTB.JPG\b\b\b\b\b\b\b\b\b\b\b\b\b\b\b\b\b\b\b\b\b\b\b\b\b\b\b\b\b\b\b\b\b\b\b\b\b\b\b\b\b\b\b\b\b\b\b\b\b\b\b\b\b\b\b\b\b\b\b\b\b\b\b\b\b\b\b\b\b\b\b\b                                                                        \b\b\b\b\b\b\b\b\b\b\b\b\b\b\b\b\b\b\b\b\b\b\b\b\b\b\b\b\b\b\b\b\b\b\b\b\b\b\b\b\b\b\b\b\b\b\b\b\b\b\b\b\b\b\b\b\b\b\b\b\b\b\b\b\b\b\b\b\b\b\b\b 46% 8829 - New Plant Diseases Dataset(Augm . b4697044___NREC_B.Spot 1964.JPG\b\b\b\b\b\b\b\b\b\b\b\b\b\b\b\b\b\b\b\b\b\b\b\b\b\b\b\b\b\b\b\b\b\b\b\b\b\b\b\b\b\b\b\b\b\b\b\b\b\b\b\b\b\b\b\b\b\b\b\b\b\b\b\b\b\b\b\b\b\b\b\b\b\b\b\b\b                                                                             \b\b\b\b\b\b\b\b\b\b\b\b\b\b\b\b\b\b\b\b\b\b\b\b\b\b\b\b\b\b\b\b\b\b\b\b\b\b\b\b\b\b\b\b\b\b\b\b\b\b\b\b\b\b\b\b\b\b\b\b\b\b\b\b\b\b\b\b\b\b\b\b\b\b\b\b\b 47% 9018 - New Plant Diseases Dataset(Augm . ___JR_HL 8210_new30degFlipLR.JPG\b\b\b\b\b\b\b\b\b\b\b\b\b\b\b\b\b\b\b\b\b\b\b\b\b\b\b\b\b\b\b\b\b\b\b\b\b\b\b\b\b\b\b\b\b\b\b\b\b\b\b\b\b\b\b\b\b\b\b\b\b\b\b\b\b\b\b\b\b\b\b\b\b\b\b\b\b\b                                                                              \b\b\b\b\b\b\b\b\b\b\b\b\b\b\b\b\b\b\b\b\b\b\b\b\b\b\b\b\b\b\b\b\b\b\b\b\b\b\b\b\b\b\b\b\b\b\b\b\b\b\b\b\b\b\b\b\b\b\b\b\b\b\b\b\b\b\b\b\b\b\b\b\b\b\b\b\b\b 47% 9159 - New Plant Diseases Dataset(Augm . 76-6fb2a0961e39___JR_HL 8427.JPG\b\b\b\b\b\b\b\b\b\b\b\b\b\b\b\b\b\b\b\b\b\b\b\b\b\b\b\b\b\b\b\b\b\b\b\b\b\b\b\b\b\b\b\b\b\b\b\b\b\b\b\b\b\b\b\b\b\b\b\b\b\b\b\b\b\b\b\b\b\b\b\b\b\b\b\b\b\b                                                                              \b\b\b\b\b\b\b\b\b\b\b\b\b\b\b\b\b\b\b\b\b\b\b\b\b\b\b\b\b\b\b\b\b\b\b\b\b\b\b\b\b\b\b\b\b\b\b\b\b\b\b\b\b\b\b\b\b\b\b\b\b\b\b\b\b\b\b\b\b\b\b\b\b\b\b\b\b\b 49% 9389\b\b\b\b\b\b\b\b\b         \b\b\b\b\b\b\b\b\b 50% 9550 - New Plant Diseases Dataset(Aug . 44___RS_Early.B 7193_180deg.JPG\b\b\b\b\b\b\b\b\b\b\b\b\b\b\b\b\b\b\b\b\b\b\b\b\b\b\b\b\b\b\b\b\b\b\b\b\b\b\b\b\b\b\b\b\b\b\b\b\b\b\b\b\b\b\b\b\b\b\b\b\b\b\b\b\b\b\b\b\b\b\b\b\b\b\b\b                                                                            \b\b\b\b\b\b\b\b\b\b\b\b\b\b\b\b\b\b\b\b\b\b\b\b\b\b\b\b\b\b\b\b\b\b\b\b\b\b\b\b\b\b\b\b\b\b\b\b\b\b\b\b\b\b\b\b\b\b\b\b\b\b\b\b\b\b\b\b\b\b\b\b\b\b\b\b 51% 9696 - New Plant Diseases Dataset(A . ae0e178___RS_Early.B 7128.JPG\b\b\b\b\b\b\b\b\b\b\b\b\b\b\b\b\b\b\b\b\b\b\b\b\b\b\b\b\b\b\b\b\b\b\b\b\b\b\b\b\b\b\b\b\b\b\b\b\b\b\b\b\b\b\b\b\b\b\b\b\b\b\b\b\b\b\b\b\b\b\b\b                                                                        \b\b\b\b\b\b\b\b\b\b\b\b\b\b\b\b\b\b\b\b\b\b\b\b\b\b\b\b\b\b\b\b\b\b\b\b\b\b\b\b\b\b\b\b\b\b\b\b\b\b\b\b\b\b\b\b\b\b\b\b\b\b\b\b\b\b\b\b\b\b\b\b 52% 9826 - New Plant Diseases Dataset(A . 708f7a0___RS_Early.B 7132.JPG\b\b\b\b\b\b\b\b\b\b\b\b\b\b\b\b\b\b\b\b\b\b\b\b\b\b\b\b\b\b\b\b\b\b\b\b\b\b\b\b\b\b\b\b\b\b\b\b\b\b\b\b\b\b\b\b\b\b\b\b\b\b\b\b\b\b\b\b\b\b\b\b                                                                        \b\b\b\b\b\b\b\b\b\b\b\b\b\b\b\b\b\b\b\b\b\b\b\b\b\b\b\b\b\b\b\b\b\b\b\b\b\b\b\b\b\b\b\b\b\b\b\b\b\b\b\b\b\b\b\b\b\b\b\b\b\b\b\b\b\b\b\b\b\b\b\b 53% 10006 - New Plant Diseases Dataset(Aug . RS_HL 1797_new200degFlipTB.JPG\b\b\b\b\b\b\b\b\b\b\b\b\b\b\b\b\b\b\b\b\b\b\b\b\b\b\b\b\b\b\b\b\b\b\b\b\b\b\b\b\b\b\b\b\b\b\b\b\b\b\b\b\b\b\b\b\b\b\b\b\b\b\b\b\b\b\b\b\b\b\b\b\b\b\b\b                                                                            \b\b\b\b\b\b\b\b\b\b\b\b\b\b\b\b\b\b\b\b\b\b\b\b\b\b\b\b\b\b\b\b\b\b\b\b\b\b\b\b\b\b\b\b\b\b\b\b\b\b\b\b\b\b\b\b\b\b\b\b\b\b\b\b\b\b\b\b\b\b\b\b\b\b\b\b 54% 10107 - New Plant Diseases Dataset(Augm . f84b9d1f___RS_HL 1958_flipLR.JPG\b\b\b\b\b\b\b\b\b\b\b\b\b\b\b\b\b\b\b\b\b\b\b\b\b\b\b\b\b\b\b\b\b\b\b\b\b\b\b\b\b\b\b\b\b\b\b\b\b\b\b\b\b\b\b\b\b\b\b\b\b\b\b\b\b\b\b\b\b\b\b\b\b\b\b\b\b\b\b                                                                               \b\b\b\b\b\b\b\b\b\b\b\b\b\b\b\b\b\b\b\b\b\b\b\b\b\b\b\b\b\b\b\b\b\b\b\b\b\b\b\b\b\b\b\b\b\b\b\b\b\b\b\b\b\b\b\b\b\b\b\b\b\b\b\b\b\b\b\b\b\b\b\b\b\b\b\b\b\b\b 54% 10186 - New Plant Diseases Dataset(Aug . _RS_HL 1939_new30degFlipTB.JPG\b\b\b\b\b\b\b\b\b\b\b\b\b\b\b\b\b\b\b\b\b\b\b\b\b\b\b\b\b\b\b\b\b\b\b\b\b\b\b\b\b\b\b\b\b\b\b\b\b\b\b\b\b\b\b\b\b\b\b\b\b\b\b\b\b\b\b\b\b\b\b\b\b\b\b\b                                                                            \b\b\b\b\b\b\b\b\b\b\b\b\b\b\b\b\b\b\b\b\b\b\b\b\b\b\b\b\b\b\b\b\b\b\b\b\b\b\b\b\b\b\b\b\b\b\b\b\b\b\b\b\b\b\b\b\b\b\b\b\b\b\b\b\b\b\b\b\b\b\b\b\b\b\b\b 55% 10279 - New Plant Diseases Dataset(Augm . 85d497c2___RS_HL 4181_flipTB.JPG\b\b\b\b\b\b\b\b\b\b\b\b\b\b\b\b\b\b\b\b\b\b\b\b\b\b\b\b\b\b\b\b\b\b\b\b\b\b\b\b\b\b\b\b\b\b\b\b\b\b\b\b\b\b\b\b\b\b\b\b\b\b\b\b\b\b\b\b\b\b\b\b\b\b\b\b\b\b\b                                                                               \b\b\b\b\b\b\b\b\b\b\b\b\b\b\b\b\b\b\b\b\b\b\b\b\b\b\b\b\b\b\b\b\b\b\b\b\b\b\b\b\b\b\b\b\b\b\b\b\b\b\b\b\b\b\b\b\b\b\b\b\b\b\b\b\b\b\b\b\b\b\b\b\b\b\b\b\b\b\b 56% 10509 - New Plant Diseases Dataset(Au . feb55___RS_LB 4978_180deg.JPG\b\b\b\b\b\b\b\b\b\b\b\b\b\b\b\b\b\b\b\b\b\b\b\b\b\b\b\b\b\b\b\b\b\b\b\b\b\b\b\b\b\b\b\b\b\b\b\b\b\b\b\b\b\b\b\b\b\b\b\b\b\b\b\b\b\b\b\b\b\b\b\b\b\b                                                                          \b\b\b\b\b\b\b\b\b\b\b\b\b\b\b\b\b\b\b\b\b\b\b\b\b\b\b\b\b\b\b\b\b\b\b\b\b\b\b\b\b\b\b\b\b\b\b\b\b\b\b\b\b\b\b\b\b\b\b\b\b\b\b\b\b\b\b\b\b\b\b\b\b\b 57% 10648 - New Plant Diseases Dataset(Au . ba9f0___RS_LB 4662_flipTB.JPG\b\b\b\b\b\b\b\b\b\b\b\b\b\b\b\b\b\b\b\b\b\b\b\b\b\b\b\b\b\b\b\b\b\b\b\b\b\b\b\b\b\b\b\b\b\b\b\b\b\b\b\b\b\b\b\b\b\b\b\b\b\b\b\b\b\b\b\b\b\b\b\b\b\b                                                                          \b\b\b\b\b\b\b\b\b\b\b\b\b\b\b\b\b\b\b\b\b\b\b\b\b\b\b\b\b\b\b\b\b\b\b\b\b\b\b\b\b\b\b\b\b\b\b\b\b\b\b\b\b\b\b\b\b\b\b\b\b\b\b\b\b\b\b\b\b\b\b\b\b\b 58% 10746 - New Plant Diseases Dataset(Au . 749e8___RS_LB 4048_180deg.JPG\b\b\b\b\b\b\b\b\b\b\b\b\b\b\b\b\b\b\b\b\b\b\b\b\b\b\b\b\b\b\b\b\b\b\b\b\b\b\b\b\b\b\b\b\b\b\b\b\b\b\b\b\b\b\b\b\b\b\b\b\b\b\b\b\b\b\b\b\b\b\b\b\b\b                                                                          \b\b\b\b\b\b\b\b\b\b\b\b\b\b\b\b\b\b\b\b\b\b\b\b\b\b\b\b\b\b\b\b\b\b\b\b\b\b\b\b\b\b\b\b\b\b\b\b\b\b\b\b\b\b\b\b\b\b\b\b\b\b\b\b\b\b\b\b\b\b\b\b\b\b 59% 10943 - New Plant Diseases Dataset(Augm . Mary_HL 6378_new30degFlipLR.JPG\b\b\b\b\b\b\b\b\b\b\b\b\b\b\b\b\b\b\b\b\b\b\b\b\b\b\b\b\b\b\b\b\b\b\b\b\b\b\b\b\b\b\b\b\b\b\b\b\b\b\b\b\b\b\b\b\b\b\b\b\b\b\b\b\b\b\b\b\b\b\b\b\b\b\b\b\b\b                                                                              \b\b\b\b\b\b\b\b\b\b\b\b\b\b\b\b\b\b\b\b\b\b\b\b\b\b\b\b\b\b\b\b\b\b\b\b\b\b\b\b\b\b\b\b\b\b\b\b\b\b\b\b\b\b\b\b\b\b\b\b\b\b\b\b\b\b\b\b\b\b\b\b\b\b\b\b\b\b 60% 11127 - New Plant Diseases Dataset(Aug . ___Mary_HL 6309_newPixel25.JPG\b\b\b\b\b\b\b\b\b\b\b\b\b\b\b\b\b\b\b\b\b\b\b\b\b\b\b\b\b\b\b\b\b\b\b\b\b\b\b\b\b\b\b\b\b\b\b\b\b\b\b\b\b\b\b\b\b\b\b\b\b\b\b\b\b\b\b\b\b\b\b\b\b\b\b\b                                                                            \b\b\b\b\b\b\b\b\b\b\b\b\b\b\b\b\b\b\b\b\b\b\b\b\b\b\b\b\b\b\b\b\b\b\b\b\b\b\b\b\b\b\b\b\b\b\b\b\b\b\b\b\b\b\b\b\b\b\b\b\b\b\b\b\b\b\b\b\b\b\b\b\b\b\b\b 61% 11262 - New Plant Diseases Dataset(Aug . f-2242848026f9___RS_HL 4318.JPG\b\b\b\b\b\b\b\b\b\b\b\b\b\b\b\b\b\b\b\b\b\b\b\b\b\b\b\b\b\b\b\b\b\b\b\b\b\b\b\b\b\b\b\b\b\b\b\b\b\b\b\b\b\b\b\b\b\b\b\b\b\b\b\b\b\b\b\b\b\b\b\b\b\b\b\b\b                                                                             \b\b\b\b\b\b\b\b\b\b\b\b\b\b\b\b\b\b\b\b\b\b\b\b\b\b\b\b\b\b\b\b\b\b\b\b\b\b\b\b\b\b\b\b\b\b\b\b\b\b\b\b\b\b\b\b\b\b\b\b\b\b\b\b\b\b\b\b\b\b\b\b\b\b\b\b\b 62% 11438 - New Plant Diseases Dataset(Aug . e-b281ab21138d___RS_HL 7404.JPG\b\b\b\b\b\b\b\b\b\b\b\b\b\b\b\b\b\b\b\b\b\b\b\b\b\b\b\b\b\b\b\b\b\b\b\b\b\b\b\b\b\b\b\b\b\b\b\b\b\b\b\b\b\b\b\b\b\b\b\b\b\b\b\b\b\b\b\b\b\b\b\b\b\b\b\b\b                                                                             \b\b\b\b\b\b\b\b\b\b\b\b\b\b\b\b\b\b\b\b\b\b\b\b\b\b\b\b\b\b\b\b\b\b\b\b\b\b\b\b\b\b\b\b\b\b\b\b\b\b\b\b\b\b\b\b\b\b\b\b\b\b\b\b\b\b\b\b\b\b\b\b\b\b\b\b\b 63% 11633 - New Plant Diseases Dataset(Aug . d-9a1e344b867e___RS_HL 5333.JPG\b\b\b\b\b\b\b\b\b\b\b\b\b\b\b\b\b\b\b\b\b\b\b\b\b\b\b\b\b\b\b\b\b\b\b\b\b\b\b\b\b\b\b\b\b\b\b\b\b\b\b\b\b\b\b\b\b\b\b\b\b\b\b\b\b\b\b\b\b\b\b\b\b\b\b\b\b                                                                             \b\b\b\b\b\b\b\b\b\b\b\b\b\b\b\b\b\b\b\b\b\b\b\b\b\b\b\b\b\b\b\b\b\b\b\b\b\b\b\b\b\b\b\b\b\b\b\b\b\b\b\b\b\b\b\b\b\b\b\b\b\b\b\b\b\b\b\b\b\b\b\b\b\b\b\b\b 65% 11859 - New Plant Diseases Dataset(Au . a7927574___MD_Powd.M 0992.JPG\b\b\b\b\b\b\b\b\b\b\b\b\b\b\b\b\b\b\b\b\b\b\b\b\b\b\b\b\b\b\b\b\b\b\b\b\b\b\b\b\b\b\b\b\b\b\b\b\b\b\b\b\b\b\b\b\b\b\b\b\b\b\b\b\b\b\b\b\b\b\b\b\b\b                                                                          \b\b\b\b\b\b\b\b\b\b\b\b\b\b\b\b\b\b\b\b\b\b\b\b\b\b\b\b\b\b\b\b\b\b\b\b\b\b\b\b\b\b\b\b\b\b\b\b\b\b\b\b\b\b\b\b\b\b\b\b\b\b\b\b\b\b\b\b\b\b\b\b\b\b 65% 11990 - New Plant Diseases Dataset(Aug . a9be___MD_Powd.M 0138 copy.jpg\b\b\b\b\b\b\b\b\b\b\b\b\b\b\b\b\b\b\b\b\b\b\b\b\b\b\b\b\b\b\b\b\b\b\b\b\b\b\b\b\b\b\b\b\b\b\b\b\b\b\b\b\b\b\b\b\b\b\b\b\b\b\b\b\b\b\b\b\b\b\b\b\b\b\b\b                                                                            \b\b\b\b\b\b\b\b\b\b\b\b\b\b\b\b\b\b\b\b\b\b\b\b\b\b\b\b\b\b\b\b\b\b\b\b\b\b\b\b\b\b\b\b\b\b\b\b\b\b\b\b\b\b\b\b\b\b\b\b\b\b\b\b\b\b\b\b\b\b\b\b\b\b\b\b 67% 12213 - New Plant Diseases Dataset(Au . ee141___RS_HL 4482_180deg.JPG\b\b\b\b\b\b\b\b\b\b\b\b\b\b\b\b\b\b\b\b\b\b\b\b\b\b\b\b\b\b\b\b\b\b\b\b\b\b\b\b\b\b\b\b\b\b\b\b\b\b\b\b\b\b\b\b\b\b\b\b\b\b\b\b\b\b\b\b\b\b\b\b\b\b                                                                          \b\b\b\b\b\b\b\b\b\b\b\b\b\b\b\b\b\b\b\b\b\b\b\b\b\b\b\b\b\b\b\b\b\b\b\b\b\b\b\b\b\b\b\b\b\b\b\b\b\b\b\b\b\b\b\b\b\b\b\b\b\b\b\b\b\b\b\b\b\b\b\b\b\b 69% 12504 - New Plant Diseases Dataset(Augm . __RS_HL 1981_new30degFlipLR.JPG\b\b\b\b\b\b\b\b\b\b\b\b\b\b\b\b\b\b\b\b\b\b\b\b\b\b\b\b\b\b\b\b\b\b\b\b\b\b\b\b\b\b\b\b\b\b\b\b\b\b\b\b\b\b\b\b\b\b\b\b\b\b\b\b\b\b\b\b\b\b\b\b\b\b\b\b\b\b                                                                              \b\b\b\b\b\b\b\b\b\b\b\b\b\b\b\b\b\b\b\b\b\b\b\b\b\b\b\b\b\b\b\b\b\b\b\b\b\b\b\b\b\b\b\b\b\b\b\b\b\b\b\b\b\b\b\b\b\b\b\b\b\b\b\b\b\b\b\b\b\b\b\b\b\b\b\b\b\b 70% 12640 - New Plant Diseases Dataset(Au . a26092c___RS_L.Scorch 1111.JPG\b\b\b\b\b\b\b\b\b\b\b\b\b\b\b\b\b\b\b\b\b\b\b\b\b\b\b\b\b\b\b\b\b\b\b\b\b\b\b\b\b\b\b\b\b\b\b\b\b\b\b\b\b\b\b\b\b\b\b\b\b\b\b\b\b\b\b\b\b\b\b\b\b\b\b                                                                           \b\b\b\b\b\b\b\b\b\b\b\b\b\b\b\b\b\b\b\b\b\b\b\b\b\b\b\b\b\b\b\b\b\b\b\b\b\b\b\b\b\b\b\b\b\b\b\b\b\b\b\b\b\b\b\b\b\b\b\b\b\b\b\b\b\b\b\b\b\b\b\b\b\b\b 71% 12871 - New Plant Diseases Dataset(Augm . c4___RS_L.Scorch 9971_flipLR.JPG\b\b\b\b\b\b\b\b\b\b\b\b\b\b\b\b\b\b\b\b\b\b\b\b\b\b\b\b\b\b\b\b\b\b\b\b\b\b\b\b\b\b\b\b\b\b\b\b\b\b\b\b\b\b\b\b\b\b\b\b\b\b\b\b\b\b\b\b\b\b\b\b\b\b\b\b\b\b\b                                                                               \b\b\b\b\b\b\b\b\b\b\b\b\b\b\b\b\b\b\b\b\b\b\b\b\b\b\b\b\b\b\b\b\b\b\b\b\b\b\b\b\b\b\b\b\b\b\b\b\b\b\b\b\b\b\b\b\b\b\b\b\b\b\b\b\b\b\b\b\b\b\b\b\b\b\b\b\b\b\b 73% 13105 - New Plant Diseases Dataset(Augm . 7___UF.GRC_BS_Lab Leaf 0615.JPG\b\b\b\b\b\b\b\b\b\b\b\b\b\b\b\b\b\b\b\b\b\b\b\b\b\b\b\b\b\b\b\b\b\b\b\b\b\b\b\b\b\b\b\b\b\b\b\b\b\b\b\b\b\b\b\b\b\b\b\b\b\b\b\b\b\b\b\b\b\b\b\b\b\b\b\b\b\b                                                                              \b\b\b\b\b\b\b\b\b\b\b\b\b\b\b\b\b\b\b\b\b\b\b\b\b\b\b\b\b\b\b\b\b\b\b\b\b\b\b\b\b\b\b\b\b\b\b\b\b\b\b\b\b\b\b\b\b\b\b\b\b\b\b\b\b\b\b\b\b\b\b\b\b\b\b\b\b\b 74% 13377 - New Plant Diseases Dataset(Aug . bc5b8___GCREC_Bact.Sp 5686.JPG\b\b\b\b\b\b\b\b\b\b\b\b\b\b\b\b\b\b\b\b\b\b\b\b\b\b\b\b\b\b\b\b\b\b\b\b\b\b\b\b\b\b\b\b\b\b\b\b\b\b\b\b\b\b\b\b\b\b\b\b\b\b\b\b\b\b\b\b\b\b\b\b\b\b\b\b                                                                            \b\b\b\b\b\b\b\b\b\b\b\b\b\b\b\b\b\b\b\b\b\b\b\b\b\b\b\b\b\b\b\b\b\b\b\b\b\b\b\b\b\b\b\b\b\b\b\b\b\b\b\b\b\b\b\b\b\b\b\b\b\b\b\b\b\b\b\b\b\b\b\b\b\b\b\b 75% 13574 - New Plant Diseases Dataset(Aug . 30___RS_Erly.B 7638_flipTB.JPG\b\b\b\b\b\b\b\b\b\b\b\b\b\b\b\b\b\b\b\b\b\b\b\b\b\b\b\b\b\b\b\b\b\b\b\b\b\b\b\b\b\b\b\b\b\b\b\b\b\b\b\b\b\b\b\b\b\b\b\b\b\b\b\b\b\b\b\b\b\b\b\b\b\b\b\b                                                                            \b\b\b\b\b\b\b\b\b\b\b\b\b\b\b\b\b\b\b\b\b\b\b\b\b\b\b\b\b\b\b\b\b\b\b\b\b\b\b\b\b\b\b\b\b\b\b\b\b\b\b\b\b\b\b\b\b\b\b\b\b\b\b\b\b\b\b\b\b\b\b\b\b\b\b\b 76% 13853 - New Plant Diseases Dataset(Aug . d5___RS_Erly.B 8246_flipTB.JPG\b\b\b\b\b\b\b\b\b\b\b\b\b\b\b\b\b\b\b\b\b\b\b\b\b\b\b\b\b\b\b\b\b\b\b\b\b\b\b\b\b\b\b\b\b\b\b\b\b\b\b\b\b\b\b\b\b\b\b\b\b\b\b\b\b\b\b\b\b\b\b\b\b\b\b\b                                                                            \b\b\b\b\b\b\b\b\b\b\b\b\b\b\b\b\b\b\b\b\b\b\b\b\b\b\b\b\b\b\b\b\b\b\b\b\b\b\b\b\b\b\b\b\b\b\b\b\b\b\b\b\b\b\b\b\b\b\b\b\b\b\b\b\b\b\b\b\b\b\b\b\b\b\b\b 77% 13976 - New Plant Diseases Dataset(Augm . 09526032d5___GH_HL Leaf 469.JPG\b\b\b\b\b\b\b\b\b\b\b\b\b\b\b\b\b\b\b\b\b\b\b\b\b\b\b\b\b\b\b\b\b\b\b\b\b\b\b\b\b\b\b\b\b\b\b\b\b\b\b\b\b\b\b\b\b\b\b\b\b\b\b\b\b\b\b\b\b\b\b\b\b\b\b\b\b\b                                                                              \b\b\b\b\b\b\b\b\b\b\b\b\b\b\b\b\b\b\b\b\b\b\b\b\b\b\b\b\b\b\b\b\b\b\b\b\b\b\b\b\b\b\b\b\b\b\b\b\b\b\b\b\b\b\b\b\b\b\b\b\b\b\b\b\b\b\b\b\b\b\b\b\b\b\b\b\b\b 78% 14156 - New Plant Diseases Dataset(Augm . c10636a9b2___GH_HL Leaf 332.JPG\b\b\b\b\b\b\b\b\b\b\b\b\b\b\b\b\b\b\b\b\b\b\b\b\b\b\b\b\b\b\b\b\b\b\b\b\b\b\b\b\b\b\b\b\b\b\b\b\b\b\b\b\b\b\b\b\b\b\b\b\b\b\b\b\b\b\b\b\b\b\b\b\b\b\b\b\b\b                                                                              \b\b\b\b\b\b\b\b\b\b\b\b\b\b\b\b\b\b\b\b\b\b\b\b\b\b\b\b\b\b\b\b\b\b\b\b\b\b\b\b\b\b\b\b\b\b\b\b\b\b\b\b\b\b\b\b\b\b\b\b\b\b\b\b\b\b\b\b\b\b\b\b\b\b\b\b\b\b 80% 14358 - New Plant Diseases Dataset(Aug . -83b7f362b703___RS_HL 0347.JPG\b\b\b\b\b\b\b\b\b\b\b\b\b\b\b\b\b\b\b\b\b\b\b\b\b\b\b\b\b\b\b\b\b\b\b\b\b\b\b\b\b\b\b\b\b\b\b\b\b\b\b\b\b\b\b\b\b\b\b\b\b\b\b\b\b\b\b\b\b\b\b\b\b\b\b\b                                                                            \b\b\b\b\b\b\b\b\b\b\b\b\b\b\b\b\b\b\b\b\b\b\b\b\b\b\b\b\b\b\b\b\b\b\b\b\b\b\b\b\b\b\b\b\b\b\b\b\b\b\b\b\b\b\b\b\b\b\b\b\b\b\b\b\b\b\b\b\b\b\b\b\b\b\b\b 82% 14651 - New Plant Diseases Dataset(A . c2434d7___RS_Late.B 4883.JPG\b\b\b\b\b\b\b\b\b\b\b\b\b\b\b\b\b\b\b\b\b\b\b\b\b\b\b\b\b\b\b\b\b\b\b\b\b\b\b\b\b\b\b\b\b\b\b\b\b\b\b\b\b\b\b\b\b\b\b\b\b\b\b\b\b\b\b\b\b\b\b\b                                                                        \b\b\b\b\b\b\b\b\b\b\b\b\b\b\b\b\b\b\b\b\b\b\b\b\b\b\b\b\b\b\b\b\b\b\b\b\b\b\b\b\b\b\b\b\b\b\b\b\b\b\b\b\b\b\b\b\b\b\b\b\b\b\b\b\b\b\b\b\b\b\b\b 83% 14912 - New Plant Diseases Dataset(Augmented)/valid/Tomato___Leaf_Mold\b\b\b\b\b\b\b\b\b\b\b\b\b\b\b\b\b\b\b\b\b\b\b\b\b\b\b\b\b\b\b\b\b\b\b\b\b\b\b\b\b\b\b\b\b\b\b\b\b\b\b\b\b\b\b\b\b\b\b\b\b\b\b\b\b\b\b\b\b\b\b\b\b\b\b                                                                           \b\b\b\b\b\b\b\b\b\b\b\b\b\b\b\b\b\b\b\b\b\b\b\b\b\b\b\b\b\b\b\b\b\b\b\b\b\b\b\b\b\b\b\b\b\b\b\b\b\b\b\b\b\b\b\b\b\b\b\b\b\b\b\b\b\b\b\b\b\b\b\b\b\b\b 84% 15172 - New Plant Diseases Dataset(A . 8fc4f___Crnl_L.Mold 7023.JPG\b\b\b\b\b\b\b\b\b\b\b\b\b\b\b\b\b\b\b\b\b\b\b\b\b\b\b\b\b\b\b\b\b\b\b\b\b\b\b\b\b\b\b\b\b\b\b\b\b\b\b\b\b\b\b\b\b\b\b\b\b\b\b\b\b\b\b\b\b\b\b\b                                                                        \b\b\b\b\b\b\b\b\b\b\b\b\b\b\b\b\b\b\b\b\b\b\b\b\b\b\b\b\b\b\b\b\b\b\b\b\b\b\b\b\b\b\b\b\b\b\b\b\b\b\b\b\b\b\b\b\b\b\b\b\b\b\b\b\b\b\b\b\b\b\b\b 86% 15469 - New Plant Diseases Dataset(Aug . 2cd38c896___Matt.S_CG 6876.JPG\b\b\b\b\b\b\b\b\b\b\b\b\b\b\b\b\b\b\b\b\b\b\b\b\b\b\b\b\b\b\b\b\b\b\b\b\b\b\b\b\b\b\b\b\b\b\b\b\b\b\b\b\b\b\b\b\b\b\b\b\b\b\b\b\b\b\b\b\b\b\b\b\b\b\b\b                                                                            \b\b\b\b\b\b\b\b\b\b\b\b\b\b\b\b\b\b\b\b\b\b\b\b\b\b\b\b\b\b\b\b\b\b\b\b\b\b\b\b\b\b\b\b\b\b\b\b\b\b\b\b\b\b\b\b\b\b\b\b\b\b\b\b\b\b\b\b\b\b\b\b\b\b\b\b 88% 15733 - New Plant Diseases Dataset(Augm . 95b9261___Keller.St_CG 1901.JPG\b\b\b\b\b\b\b\b\b\b\b\b\b\b\b\b\b\b\b\b\b\b\b\b\b\b\b\b\b\b\b\b\b\b\b\b\b\b\b\b\b\b\b\b\b\b\b\b\b\b\b\b\b\b\b\b\b\b\b\b\b\b\b\b\b\b\b\b\b\b\b\b\b\b\b\b\b\b                                                                              \b\b\b\b\b\b\b\b\b\b\b\b\b\b\b\b\b\b\b\b\b\b\b\b\b\b\b\b\b\b\b\b\b\b\b\b\b\b\b\b\b\b\b\b\b\b\b\b\b\b\b\b\b\b\b\b\b\b\b\b\b\b\b\b\b\b\b\b\b\b\b\b\b\b\b\b\b\b 89% 15985\b\b\b\b\b\b\b\b\b\b          \b\b\b\b\b\b\b\b\b\b 91% 16210 - New Plant Diseases Dataset(Augm . a735ddf___Com.G_SpM_FL 1267.JPG\b\b\b\b\b\b\b\b\b\b\b\b\b\b\b\b\b\b\b\b\b\b\b\b\b\b\b\b\b\b\b\b\b\b\b\b\b\b\b\b\b\b\b\b\b\b\b\b\b\b\b\b\b\b\b\b\b\b\b\b\b\b\b\b\b\b\b\b\b\b\b\b\b\b\b\b\b\b                                                                              \b\b\b\b\b\b\b\b\b\b\b\b\b\b\b\b\b\b\b\b\b\b\b\b\b\b\b\b\b\b\b\b\b\b\b\b\b\b\b\b\b\b\b\b\b\b\b\b\b\b\b\b\b\b\b\b\b\b\b\b\b\b\b\b\b\b\b\b\b\b\b\b\b\b\b\b\b\b 93% 16537\b\b\b\b\b\b\b\b\b\b          \b\b\b\b\b\b\b\b\b\b 95% 16767 - New Plant Diseases Dataset(Augm . ab0cb3___PSU_CG 2074_270deg.JPG\b\b\b\b\b\b\b\b\b\b\b\b\b\b\b\b\b\b\b\b\b\b\b\b\b\b\b\b\b\b\b\b\b\b\b\b\b\b\b\b\b\b\b\b\b\b\b\b\b\b\b\b\b\b\b\b\b\b\b\b\b\b\b\b\b\b\b\b\b\b\b\b\b\b\b\b\b\b                                                                              \b\b\b\b\b\b\b\b\b\b\b\b\b\b\b\b\b\b\b\b\b\b\b\b\b\b\b\b\b\b\b\b\b\b\b\b\b\b\b\b\b\b\b\b\b\b\b\b\b\b\b\b\b\b\b\b\b\b\b\b\b\b\b\b\b\b\b\b\b\b\b\b\b\b\b\b\b\b 96% 16957\b\b\b\b\b\b\b\b\b\b          \b\b\b\b\b\b\b\b\b\b 97% 17064\b\b\b\b\b\b\b\b\b\b          \b\b\b\b\b\b\b\b\b\b 98% 17255 - New Plant Diseases Dataset(Aug . d9___UF.GRC_YLCV_Lab 01691.JPG\b\b\b\b\b\b\b\b\b\b\b\b\b\b\b\b\b\b\b\b\b\b\b\b\b\b\b\b\b\b\b\b\b\b\b\b\b\b\b\b\b\b\b\b\b\b\b\b\b\b\b\b\b\b\b\b\b\b\b\b\b\b\b\b\b\b\b\b\b\b\b\b\b\b\b\b                                                                            \b\b\b\b\b\b\b\b\b\b\b\b\b\b\b\b\b\b\b\b\b\b\b\b\b\b\b\b\b\b\b\b\b\b\b\b\b\b\b\b\b\b\b\b\b\b\b\b\b\b\b\b\b\b\b\b\b\b\b\b\b\b\b\b\b\b\b\b\b\b\b\b\b\b\b\b 99% 17576 - New Plant Diseases Dataset(A . 7c0533c0___YLCV_NREC 0077.JPG\b\b\b\b\b\b\b\b\b\b\b\b\b\b\b\b\b\b\b\b\b\b\b\b\b\b\b\b\b\b\b\b\b\b\b\b\b\b\b\b\b\b\b\b\b\b\b\b\b\b\b\b\b\b\b\b\b\b\b\b\b\b\b\b\b\b\b\b\b\b\b\b\b                                                                         \b\b\b\b\b\b\b\b\b\b\b\b\b\b\b\b\b\b\b\b\b\b\b\b\b\b\b\b\b\b\b\b\b\b\b\b\b\b\b\b\b\b\b\b\b\b\b\b\b\b\b\b\b\b\b\b\b\b\b\b\b\b\b\b\b\b\b\b\b\b\b\b\bEverything is Ok\n",
            "\n",
            "Folders: 49\n",
            "Files: 17605\n",
            "Size:       286035163\n",
            "Compressed: 289378688\n"
          ]
        }
      ]
    },
    {
      "cell_type": "code",
      "outputs": [],
      "source": [
        "from XAI_PhD_prj.CustomEfficientNet import CustomEfficientNet\n",
        "import lightning.pytorch as pl\n",
        "from tqdm.auto import tqdm\n",
        "import torch\n",
        "import numpy as np\n",
        "import pandas as pd\n",
        "import matplotlib.pyplot as plt\n",
        "\n",
        "torch.set_float32_matmul_precision('high')"
      ],
      "metadata": {
        "ExecuteTime": {
          "end_time": "2024-02-19T14:12:13.580524800Z",
          "start_time": "2024-02-19T14:12:09.492517500Z"
        },
        "id": "ff5ecd009cfd8924"
      },
      "id": "ff5ecd009cfd8924",
      "execution_count": 4
    },
    {
      "cell_type": "code",
      "outputs": [
        {
          "output_type": "stream",
          "name": "stderr",
          "text": [
            "/usr/local/lib/python3.10/dist-packages/torchvision/models/_utils.py:135: UserWarning: Using 'weights' as positional parameter(s) is deprecated since 0.13 and may be removed in the future. Please use keyword parameter(s) instead.\n",
            "  warnings.warn(\n"
          ]
        }
      ],
      "source": [
        "model = CustomEfficientNet.load_from_checkpoint(\"/content/XAI_PhD_prj/checkpoints/efficient_net_scratch-v15.ckpt\")\n",
        "model.eval()\n",
        "model.freeze()"
      ],
      "metadata": {
        "ExecuteTime": {
          "end_time": "2024-02-19T15:45:47.447646600Z",
          "start_time": "2024-02-19T15:45:46.800468400Z"
        },
        "id": "7c73703ffd3eed7b",
        "outputId": "fddb4787-9692-467a-9769-aa4ea5e88372",
        "colab": {
          "base_uri": "https://localhost:8080/"
        }
      },
      "id": "7c73703ffd3eed7b",
      "execution_count": 5
    },
    {
      "cell_type": "code",
      "outputs": [
        {
          "output_type": "stream",
          "name": "stderr",
          "text": [
            "/usr/local/lib/python3.10/dist-packages/torch/utils/data/dataloader.py:557: UserWarning: This DataLoader will create 4 worker processes in total. Our suggested max number of worker in current system is 2, which is smaller than what this DataLoader is going to create. Please be aware that excessive worker creation might get DataLoader running slow or even freeze, lower the worker number to avoid potential slowness/freeze if necessary.\n",
            "  warnings.warn(_create_warning_msg(\n"
          ]
        }
      ],
      "source": [
        "from torchvision.transforms import transforms\n",
        "from torch.utils.data import DataLoader\n",
        "from torchvision.datasets import ImageFolder\n",
        "import os\n",
        "\n",
        "data_dir = \"New Plant Diseases Dataset(Augmented)\"\n",
        "valid_dir = os.path.join(data_dir, \"valid\")\n",
        "batch_size = 32\n",
        "valid = ImageFolder(valid_dir, transform=transforms.ToTensor())\n",
        "valid_dl = DataLoader(valid, batch_size, num_workers=4, pin_memory=True, persistent_workers=True)\n",
        "test_dir = os.path.join(data_dir, \"test\")\n",
        "test = ImageFolder(test_dir, transform=transforms.ToTensor())\n",
        "for k in test.class_to_idx:\n",
        "    test.class_to_idx[k] = valid.class_to_idx[k]\n",
        "test.samples = test.make_dataset(test_dir, test.class_to_idx,\n",
        "                                 extensions=(\n",
        "                                     \".jpg\", \".jpeg\", \".png\", \".ppm\", \".bmp\", \".pgm\", \".tif\", \".tiff\", \".webp\"))\n",
        "test_dl = DataLoader(test, batch_size, num_workers=4, pin_memory=True, persistent_workers=True)"
      ],
      "metadata": {
        "ExecuteTime": {
          "end_time": "2024-02-19T14:12:14.738610600Z",
          "start_time": "2024-02-19T14:12:14.245738400Z"
        },
        "id": "644e0206c2f5f3fe",
        "outputId": "f677ab28-e56d-4911-dc79-cabc1db833bc",
        "colab": {
          "base_uri": "https://localhost:8080/"
        }
      },
      "id": "644e0206c2f5f3fe",
      "execution_count": 6
    },
    {
      "cell_type": "code",
      "outputs": [
        {
          "output_type": "display_data",
          "data": {
            "text/plain": [
              "  0%|          | 0/550 [00:00<?, ?it/s]"
            ],
            "application/vnd.jupyter.widget-view+json": {
              "version_major": 2,
              "version_minor": 0,
              "model_id": "59ca4a87484841dc8457d74af40fd2d0"
            }
          },
          "metadata": {}
        }
      ],
      "source": [
        "miss_classified_images = []\n",
        "from torchmetrics import Accuracy\n",
        "\n",
        "device = \"cuda\" if torch.cuda.is_available() else \"cpu\"\n",
        "model = model.to(device)\n",
        "acc = Accuracy(\"multiclass\", num_classes=len(valid.classes)).to(device)\n",
        "\n",
        "with torch.no_grad():\n",
        "    for image_lbl in tqdm(valid_dl):\n",
        "        image, label = image_lbl\n",
        "        image, label = image.to(device), label.to(device)\n",
        "        probs = model(image)\n",
        "        acc.update(probs, label)\n",
        "        classes = torch.argmax(probs, dim=1)\n",
        "        idx_differ = torch.where(classes == label, 0, 1).nonzero()\n",
        "        for i in idx_differ:\n",
        "            i = int(i)\n",
        "            miss_classified_images.append({\"img\": image[i], \"prediction\": int(classes[i]), \"label\": int(label[i])})\n",
        "        # if len(miss_classified_images) > 0:\n",
        "        #     break\n",
        "\n",
        "acc.compute()"
      ],
      "metadata": {
        "ExecuteTime": {
          "end_time": "2024-02-19T14:38:14.537914100Z",
          "start_time": "2024-02-19T14:38:13.383721400Z"
        },
        "id": "e3427dc34469d54e",
        "outputId": "fc4a080c-8348-4fbe-a063-5f1828ef4692",
        "colab": {
          "base_uri": "https://localhost:8080/",
          "height": 49,
          "referenced_widgets": [
            "59ca4a87484841dc8457d74af40fd2d0",
            "bba6c860609a4b03bd1aa8ba983f96bb",
            "ae19694bf4df40a68dbdd5b71a71ffa2",
            "e918c6e4ed824c549f6f90d6191f9d34",
            "34c092ee9b304e76a586836b9e4a895e",
            "de0f5fa8dc33435d9dd804223b64157e",
            "0d95110a1ff7412aaa99e543de6c07f4",
            "b172f77baf344b28a44fb4e112075667",
            "a122ff4e746e498299991a65ab792a78",
            "6f1abf8e5008426ca363e4b4ad104bf1",
            "f9d7668d94a74ef5a0658874e98d8abb"
          ]
        }
      },
      "id": "e3427dc34469d54e",
      "execution_count": null
    },
    {
      "cell_type": "code",
      "source": [
        "from lightning.pytorch import Trainer\n",
        "Trainer().test(model, test_dl)"
      ],
      "metadata": {
        "id": "nAXmZ5dp7hEO"
      },
      "id": "nAXmZ5dp7hEO",
      "execution_count": null,
      "outputs": []
    },
    {
      "cell_type": "code",
      "source": [
        "import matplotlib.pyplot as plt\n",
        "import random\n",
        "\n",
        "# 3) Select the image we want to give an explanation for\n",
        "wrong_pred = random.choice(miss_classified_images)\n",
        "image = wrong_pred['img'].to(\"cpu\")\n",
        "print(image.shape)\n",
        "plt.imshow(image.permute(1,2,0).numpy())\n",
        "plt.show()"
      ],
      "metadata": {
        "id": "7OuIeZ4TylAP"
      },
      "id": "7OuIeZ4TylAP",
      "execution_count": null,
      "outputs": []
    },
    {
      "cell_type": "code",
      "outputs": [],
      "source": [
        "import sys\n",
        "sys.path.insert(0, \"XAI_course_2024\")"
      ],
      "metadata": {
        "ExecuteTime": {
          "end_time": "2024-02-19T14:12:24.758540100Z",
          "start_time": "2024-02-19T14:12:24.737540200Z"
        },
        "id": "2a81874c589b73b3"
      },
      "id": "2a81874c589b73b3",
      "execution_count": null
    },
    {
      "cell_type": "markdown",
      "source": [
        "## Intgrad"
      ],
      "metadata": {
        "collapsed": false,
        "id": "c19de23775fe4eec"
      },
      "id": "c19de23775fe4eec"
    },
    {
      "cell_type": "code",
      "outputs": [],
      "source": [
        "from XAI_course_2024.xailib.explainers.intgrad_explainer import IntgradImageExplainer\n",
        "\n",
        "model = model.to(device)\n",
        "# 1) Create the Explainer\n",
        "ig = IntgradImageExplainer(model)\n",
        "\n",
        "# 2) Fit the Explainer\n",
        "ig.fit()\n",
        "\n",
        "#MNIST_x_data_train[80:81]\n",
        "\n",
        "\n",
        "# 4a) Preprocessing function: function that takes as input an image and return the correct format for the black box\n",
        "def preprocessing(image):\n",
        "    return torch.from_numpy(image).float() if not isinstance(image, torch.Tensor) else image\n",
        "\n",
        "\n",
        "# 4b) Predict Function of our black box: It needs to take as input the output of preprocessing and return an array of probabilities of classes with shape (-1,num_classes)\n",
        "def predict(image):\n",
        "    return torch.nn.functional.softmax(model(image.unsqueeze(dim=0).to(device)), dim=1)\n",
        "    #return MNIST_CNN(image.unsqueeze(0))\n",
        "\n",
        "\n",
        "# 5) Explain an Instance\n",
        "intgrad_pt_score = ig.explain(image, wrong_pred[\"label\"], 'half', preprocessing=preprocessing, predict=predict,\n",
        "                              model_type='pytorch', cuda=device==\"cuda\")\n",
        "\n",
        "plt.imshow(intgrad_pt_score, cmap='coolwarm')\n",
        "plt.colorbar()\n",
        "plt.axis('off');"
      ],
      "metadata": {
        "collapsed": true,
        "ExecuteTime": {
          "end_time": "2024-02-19T14:50:57.779901100Z",
          "start_time": "2024-02-19T14:50:10.547305800Z"
        },
        "id": "initial_id"
      },
      "id": "initial_id",
      "execution_count": null
    },
    {
      "cell_type": "code",
      "source": [
        "from PIL import Image\n",
        "img = Image.fromarray(intgrad_pt_score, \"RGB\")\n",
        "plt.imshow(img)\n",
        "plt.show()"
      ],
      "metadata": {
        "id": "zccVuw6w--rp"
      },
      "id": "zccVuw6w--rp",
      "execution_count": null,
      "outputs": []
    },
    {
      "cell_type": "code",
      "outputs": [],
      "source": [
        "fig, ax = plt.subplots(1, 3, figsize=(15, 5))\n",
        "np_image = image.numpy() if not isinstance(image, np.ndarray) else image\n",
        "\n",
        "ax[0].imshow(preprocessing(np_image).permute(1, 2, 0).numpy())\n",
        "ax[1].imshow(np.sum(intgrad_pt_score, axis=-1), cmap='coolwarm')\n",
        "ax[2].imshow(preprocessing(np_image).permute(1, 2, 0).numpy(), alpha=1)\n",
        "ax[2].imshow(np.sum(intgrad_pt_score, axis=-1), cmap='coolwarm', alpha=0.8);"
      ],
      "metadata": {
        "ExecuteTime": {
          "end_time": "2024-02-19T14:50:58.171619100Z",
          "start_time": "2024-02-19T14:50:57.781998300Z"
        },
        "id": "ac8863c81da05aa9"
      },
      "id": "ac8863c81da05aa9",
      "execution_count": null
    },
    {
      "cell_type": "markdown",
      "source": [
        "## LIME"
      ],
      "metadata": {
        "collapsed": false,
        "id": "5e33d18613e0dcfc"
      },
      "id": "5e33d18613e0dcfc"
    },
    {
      "cell_type": "code",
      "source": [
        "!pip install lime"
      ],
      "metadata": {
        "id": "MMFf9LD68HZp"
      },
      "id": "MMFf9LD68HZp",
      "execution_count": null,
      "outputs": []
    },
    {
      "cell_type": "code",
      "outputs": [],
      "source": [
        "from XAI_course_2024.xailib.explainers.lime_explainer import LimeXAIImageExplainer\n",
        "from skimage.color import label2rgb, gray2rgb, rgb2gray\n",
        "\n",
        "# 1) Create the Explainer\n",
        "model = model.to(device)\n",
        "lm = LimeXAIImageExplainer(model)\n",
        "\n",
        "# 2a) Fit the Explainer\n",
        "lm.fit()\n",
        "\n",
        "\n",
        "# 2b) Create custom classifier function if not predict\n",
        "# function that takes as input an array of images (the LIME neighbourhood) and return an array of (num_images, num_classes)\n",
        "# If None will use black_box.predict function\n",
        "def classifier_fn(images):\n",
        "    with torch.no_grad():\n",
        "        #images = torch.tensor(images/255).permute(0,3,1,2).float()\n",
        "        images = torch.from_numpy(images).permute(0, 3, 1, 2).float()\n",
        "        pred = torch.nn.functional.softmax(model(images.to(device)), dim=1).cpu().detach().numpy()\n",
        "        return pred\n"
      ],
      "metadata": {
        "ExecuteTime": {
          "end_time": "2024-02-19T15:21:52.865757800Z",
          "start_time": "2024-02-19T15:21:52.802825900Z"
        },
        "id": "d13347624d55a289"
      },
      "id": "d13347624d55a289",
      "execution_count": null
    },
    {
      "cell_type": "code",
      "outputs": [],
      "source": [
        "# 3) Explain an Instance\n",
        "explanation = lm.explain((preprocessing(np_image).permute(1, 2, 0).numpy() * 255).astype(int), classifier_fn,\n",
        "                         num_samples=1000)\n",
        "\n",
        "# 4) Plot the results\n",
        "lm.plot_lime_values(preprocessing(np_image).permute(1, 2, 0).numpy(), explanation)\n",
        "lime_score = explanation.heatmap"
      ],
      "metadata": {
        "ExecuteTime": {
          "end_time": "2024-02-19T15:22:03.148271800Z",
          "start_time": "2024-02-19T15:21:54.511758700Z"
        },
        "id": "f70c0c3ec7f93cc6"
      },
      "id": "f70c0c3ec7f93cc6",
      "execution_count": null
    },
    {
      "cell_type": "markdown",
      "source": [
        "## RISE"
      ],
      "metadata": {
        "collapsed": false,
        "id": "a29727d8a26eb839"
      },
      "id": "a29727d8a26eb839"
    },
    {
      "cell_type": "code",
      "outputs": [],
      "source": [
        "from XAI_course_2024.xailib.explainers.rise_explainer import RiseXAIImageExplainer\n",
        "\n",
        "\n",
        "class Rise_model_wrapper():\n",
        "    def __init__(self, bb, input_size):\n",
        "        self.model = bb\n",
        "        self.input_size = input_size\n",
        "\n",
        "    def predict(self, X):\n",
        "        with torch.no_grad():\n",
        "            images = torch.tensor(X).permute(0, 3, 1, 2).float()\n",
        "            return torch.nn.functional.softmax(model(images.to(device)), dim=1).cpu().detach().numpy()\n",
        "\n",
        "\n",
        "model = model.to(device)\n",
        "rise_model = Rise_model_wrapper(model, (np_image.shape[1], np_image.shape[1]))\n",
        "rise = RiseXAIImageExplainer(rise_model)\n",
        "\n",
        "N = 1000  # number of random masks\n",
        "s = 10  # cell_size = input_shape / s\n",
        "p1 = 0.5  # masking probability\n",
        "pred = wrong_pred['prediction']\n",
        "\n",
        "rise.fit(N, s, p1)\n",
        "\n",
        "sal = rise.explain(preprocessing(np_image).permute(1, 2, 0).cpu().detach().numpy())\n",
        "rise_score = sal[pred, :]\n",
        "\n",
        "fig, ax = plt.subplots(1, 3, figsize=(10, 5))\n",
        "ax[0].imshow(preprocessing(np_image).permute(1, 2, 0).cpu().detach().numpy(), cmap='gray')\n",
        "ax[0].axis('off')\n",
        "\n",
        "ax[1].imshow(sal[pred, :], cmap='jet')\n",
        "ax[1].axis('off')\n",
        "\n",
        "ax[2].imshow(preprocessing(np_image).permute(1, 2, 0).cpu().detach().numpy(), cmap='gray')\n",
        "ax[2].imshow(sal[pred, :], cmap='jet', alpha=0.5)\n",
        "ax[2].axis('off');"
      ],
      "metadata": {
        "ExecuteTime": {
          "end_time": "2024-02-19T15:47:41.835800400Z",
          "start_time": "2024-02-19T15:47:36.992975100Z"
        },
        "id": "3d52e2a7a0367715"
      },
      "id": "3d52e2a7a0367715",
      "execution_count": null
    },
    {
      "cell_type": "markdown",
      "source": [
        "## GradCAM"
      ],
      "metadata": {
        "collapsed": false,
        "id": "44c9bf1324974548"
      },
      "id": "44c9bf1324974548"
    },
    {
      "cell_type": "code",
      "source": [
        "! pip install ttach"
      ],
      "metadata": {
        "id": "omaZQBf29Egh"
      },
      "id": "omaZQBf29Egh",
      "execution_count": null,
      "outputs": []
    },
    {
      "cell_type": "code",
      "outputs": [],
      "source": [
        "from XAI_course_2024.xailib.explainers.gradcam_explainer import GradCAMImageExplainer\n",
        "\n",
        "model = CustomEfficientNet.load_from_checkpoint(\"/content/XAI_PhD_prj/checkpoints/efficient_net_scratch-v15.ckpt\")\n",
        "model = model.to(device)\n",
        "\n",
        "explainer = GradCAMImageExplainer(model)\n",
        "\n",
        "explainer.fit([model.model.features[2][0].block[1][0]])  #-5,36\n",
        "\n",
        "attr = explainer.explain(preprocessing(np_image).to(device).unsqueeze(0), pred, model_type='pytorch')\n",
        "gradcam_pt_score = attr[0, :]\n",
        "\n",
        "fig, ax = plt.subplots(1, 3, figsize=(10, 5))\n",
        "\n",
        "ax[0].imshow(preprocessing(np_image).permute(1, 2, 0).cpu().detach().numpy(), cmap='gray')\n",
        "ax[0].axis('off')\n",
        "\n",
        "ax[1].imshow(attr[0, :], cmap='jet')\n",
        "ax[1].axis('off')\n",
        "\n",
        "ax[2].imshow(preprocessing(np_image).permute(1, 2, 0).cpu().detach().numpy(), cmap='gray')\n",
        "ax[2].imshow(attr[0, :], cmap='jet', alpha=0.5)\n",
        "ax[2].axis('off');"
      ],
      "metadata": {
        "ExecuteTime": {
          "end_time": "2024-02-19T16:14:13.469133800Z",
          "start_time": "2024-02-19T16:14:02.717483Z"
        },
        "id": "7c789ce1e243442e"
      },
      "id": "7c789ce1e243442e",
      "execution_count": null
    },
    {
      "cell_type": "markdown",
      "source": [
        "## GradCAM plus"
      ],
      "metadata": {
        "collapsed": false,
        "id": "721066d87dfa987a"
      },
      "id": "721066d87dfa987a"
    },
    {
      "cell_type": "code",
      "outputs": [],
      "source": [
        "from XAI_course_2024.xailib.explainers.gradcam_explainer import GradCAMPlusPlusImageExplainer\n",
        "\n",
        "explainer = GradCAMPlusPlusImageExplainer(model)\n",
        "\n",
        "explainer.fit([model.model.features[2][0].block[1][0]])\n",
        "\n",
        "attr = explainer.explain(preprocessing(image).to(device).unsqueeze(0), pred, model_type='pytorch')\n",
        "gradcampp_pt_score = attr[0,:]\n",
        "\n",
        "fig, ax = plt.subplots(1,3,figsize=(10,5))\n",
        "\n",
        "ax[0].imshow(preprocessing(image).permute(1,2,0).cpu().detach().numpy(),cmap='gray')\n",
        "ax[0].axis('off')\n",
        "\n",
        "ax[1].imshow(attr[0,:],cmap='jet')\n",
        "ax[1].axis('off')\n",
        "\n",
        "ax[2].imshow(preprocessing(image).permute(1,2,0).cpu().detach().numpy(),cmap='gray')\n",
        "ax[2].imshow(attr[0,:],cmap='jet',alpha=0.5)\n",
        "ax[2].axis('off');"
      ],
      "metadata": {
        "ExecuteTime": {
          "end_time": "2024-02-19T16:17:05.507611400Z",
          "start_time": "2024-02-19T16:16:55.071493300Z"
        },
        "id": "6c457d928b0d9446"
      },
      "id": "6c457d928b0d9446",
      "execution_count": null
    },
    {
      "cell_type": "code",
      "outputs": [],
      "source": [
        "methods = [np.sum(intgrad_pt_score,axis=-1),lime_score,rise_score,gradcam_pt_score,gradcampp_pt_score]\n",
        "F, ax = plt.subplots(1,5,figsize=(20,5))\n",
        "for i in range(5):\n",
        "    ax[i].axis(False)\n",
        "    ax[i].imshow(methods[i],cmap='coolwarm')"
      ],
      "metadata": {
        "ExecuteTime": {
          "end_time": "2024-02-19T16:17:34.466541700Z",
          "start_time": "2024-02-19T16:17:34.240049800Z"
        },
        "id": "6468198197c5bd6e"
      },
      "id": "6468198197c5bd6e",
      "execution_count": null
    },
    {
      "cell_type": "markdown",
      "source": [
        "# XAI analysis"
      ],
      "metadata": {
        "collapsed": false,
        "id": "a6e4359426435118"
      },
      "id": "a6e4359426435118"
    },
    {
      "cell_type": "code",
      "outputs": [],
      "source": [
        "from XAI_course_2024.xailib.metrics.insertiondeletion import ImageInsDel\n",
        "\n",
        "def predict(image):\n",
        "    with torch.no_grad():\n",
        "        pred = torch.nn.functional.softmax(model.forward(torch.tensor(image).to(device)),dim=1)\n",
        "        return pred\n",
        "\n",
        "step = 256\n",
        "mode = 'del'\n",
        "metric = ImageInsDel(predict, mode, step, torch.zeros_like)"
      ],
      "metadata": {
        "ExecuteTime": {
          "end_time": "2024-02-19T17:03:32.368544100Z",
          "start_time": "2024-02-19T17:03:32.179602900Z"
        },
        "id": "a33cf4c2f2175f27"
      },
      "id": "a33cf4c2f2175f27",
      "execution_count": null
    },
    {
      "cell_type": "code",
      "outputs": [],
      "source": [
        "from sklearn.metrics import auc\n",
        "y = metric(preprocessing(np_image).unsqueeze(0).numpy(), step, intgrad_pt_score, rgb=True)\n",
        "\n",
        "x = np.arange(len(y))/(step*step)*step\n",
        "x[-1] = 1.0\n",
        "print('Score:', auc(x, y))\n",
        "\n",
        "plt.plot(x, y, label=np.round(auc(x, y),4))\n",
        "plt.fill_between(x, y, alpha=0.4)\n",
        "plt.xlabel('Percentage of pixel removed')\n",
        "plt.ylabel('Accuracy of the model')\n",
        "plt.legend();"
      ],
      "metadata": {
        "ExecuteTime": {
          "end_time": "2024-02-19T17:03:37.236612600Z",
          "start_time": "2024-02-19T17:03:34.634495800Z"
        },
        "id": "4e3697eb8d2c9faa"
      },
      "id": "4e3697eb8d2c9faa",
      "execution_count": null
    },
    {
      "cell_type": "code",
      "outputs": [],
      "source": [
        "from sklearn.metrics import auc\n",
        "\n",
        "y_int = metric(preprocessing(np_image).unsqueeze(0).numpy(), step, intgrad_pt_score, rgb=True)\n",
        "y_rise = metric(preprocessing(np_image).unsqueeze(0).numpy(), step, rise_score, rgb=True)\n",
        "y_lime = metric(preprocessing(np_image).unsqueeze(0).numpy(), step, lime_score, rgb=True)\n",
        "y_gcam = metric(preprocessing(np_image).unsqueeze(0).numpy(), step, gradcam_pt_score, rgb=True)\n",
        "y_gcamp = metric(preprocessing(np_image).unsqueeze(0).numpy(), step, gradcampp_pt_score, rgb=True)\n",
        "x = np.arange(len(y_int))/(step*step)*step\n",
        "x[-1] = 1.0\n",
        "\n",
        "for name, y in zip(['intgrad','lime','rise','gcam','gcamp'],[y_int,y_lime,y_rise,y_gcam,y_gcamp]):\n",
        "    plt.plot(x, y, label=f'{name}: {np.round(auc(x, y),4)}')\n",
        "    plt.fill_between(x, y, alpha=0.4)\n",
        "plt.xlabel('Percentage of pixel removed')\n",
        "plt.ylabel('Accuracy of the model')\n",
        "plt.legend();"
      ],
      "metadata": {
        "ExecuteTime": {
          "end_time": "2024-02-19T17:07:42.070855900Z",
          "start_time": "2024-02-19T17:07:30.319422Z"
        },
        "id": "4edf3f212cf54267"
      },
      "id": "4edf3f212cf54267",
      "execution_count": null
    },
    {
      "cell_type": "code",
      "outputs": [],
      "source": [
        "from sklearn.metrics import auc\n",
        "[y, anim] = metric(preprocessing(np_image).unsqueeze(0).numpy(), step, rise_score, rgb=True, verbose=1)"
      ],
      "metadata": {
        "ExecuteTime": {
          "end_time": "2024-02-19T17:07:49.266405100Z",
          "start_time": "2024-02-19T17:07:49.043816800Z"
        },
        "id": "21e28099965517b0"
      },
      "id": "21e28099965517b0",
      "execution_count": null
    },
    {
      "cell_type": "code",
      "outputs": [],
      "source": [
        "anim"
      ],
      "metadata": {
        "ExecuteTime": {
          "end_time": "2024-02-19T17:10:55.802513200Z",
          "start_time": "2024-02-19T17:07:51.307579600Z"
        },
        "id": "a69ebf11829a3820"
      },
      "id": "a69ebf11829a3820",
      "execution_count": null
    },
    {
      "cell_type": "code",
      "outputs": [],
      "source": [
        "import torch.nn as nn\n",
        "from scipy.ndimage.filters import gaussian_filter\n",
        "CH = 3\n",
        "def gkern(klen, nsig):\n",
        "    \"\"\"Returns a Gaussian kernel array.\n",
        "    Convolution with it results in image blurring.\"\"\"\n",
        "    # create nxn zeros\n",
        "    inp = np.zeros((klen, klen))\n",
        "    # set element at the middle to one, a dirac delta\n",
        "    inp[klen//2, klen//2] = 1\n",
        "    # gaussian-smooth the dirac, resulting in a gaussian filter mask\n",
        "    k = gaussian_filter(inp, nsig)\n",
        "    kern = np.zeros((CH, CH, klen, klen))\n",
        "    for i in range(CH):\n",
        "        kern[i, i] = k\n",
        "    return torch.from_numpy(kern.astype('float32'))\n",
        "\n",
        "# Function that blurs input image\n",
        "def blur(image, klen=25, ksig=25):\n",
        "    kern = gkern(klen, ksig)\n",
        "    image = torch.tensor(image).float()\n",
        "    return nn.functional.conv2d(image, kern, padding=klen//2)\n",
        "\n",
        "F,ax = plt.subplots(1,2)\n",
        "ax[0].imshow(preprocessing(np_image).permute(1,2,0).numpy(), cmap='gray')\n",
        "ax[0].axis(False)\n",
        "ax[1].imshow(blur(preprocessing(np_image)).permute(1,2,0),cmap='gray')\n",
        "ax[1].axis(False);"
      ],
      "metadata": {
        "ExecuteTime": {
          "end_time": "2024-02-19T17:10:58.168433600Z",
          "start_time": "2024-02-19T17:10:58.013145100Z"
        },
        "id": "aa794f92c860ab35"
      },
      "id": "aa794f92c860ab35",
      "execution_count": null
    },
    {
      "cell_type": "code",
      "outputs": [],
      "source": [
        "from XAI_course_2024.xailib.metrics.insertiondeletion import ImageInsDel\n",
        "\n",
        "def predict(image):\n",
        "    with torch.no_grad():\n",
        "        pred = torch.nn.functional.softmax(model.forward(torch.tensor(image).to(device)),dim=1)\n",
        "        return pred\n",
        "\n",
        "step = 256\n",
        "mode = 'ins'\n",
        "metric = ImageInsDel(predict, mode, step, blur)"
      ],
      "metadata": {
        "ExecuteTime": {
          "end_time": "2024-02-19T17:11:02.407638100Z",
          "start_time": "2024-02-19T17:11:02.378015800Z"
        },
        "id": "dea7e90145836222"
      },
      "id": "dea7e90145836222",
      "execution_count": null
    },
    {
      "cell_type": "code",
      "outputs": [],
      "source": [
        "from sklearn.metrics import auc\n",
        "\n",
        "y_int = metric(preprocessing(np_image).unsqueeze(0).numpy(), step, intgrad_pt_score, rgb=True)\n",
        "y_rise = metric(preprocessing(np_image).unsqueeze(0).numpy(), step, rise_score, rgb=True)\n",
        "y_lime = metric(preprocessing(np_image).unsqueeze(0).numpy(), step, lime_score, rgb=True)\n",
        "y_gcam = metric(preprocessing(np_image).unsqueeze(0).numpy(), step, gradcam_pt_score, rgb=True)\n",
        "y_gcamp = metric(preprocessing(np_image).unsqueeze(0).numpy(), step, gradcampp_pt_score, rgb=True)\n",
        "x = np.arange(len(y_int))/(256*256)*step\n",
        "x[-1] = 1.0\n",
        "\n",
        "for name, y in zip(['intgrad','lime','rise','gcam','gcamp'],[y_int,y_lime,y_rise,y_gcam,y_gcamp]):\n",
        "    plt.plot(x, y, label=f'{name}: {np.round(auc(x, y),4)}')\n",
        "    plt.fill_between(x, y, alpha=0.4)\n",
        "plt.xlabel('Percentage of pixel inserted')\n",
        "plt.ylabel('Accuracy of the model')\n",
        "plt.legend();"
      ],
      "metadata": {
        "ExecuteTime": {
          "end_time": "2024-02-19T17:11:38.949035700Z",
          "start_time": "2024-02-19T17:11:26.937506200Z"
        },
        "id": "d91d2419fdf1443f"
      },
      "id": "d91d2419fdf1443f",
      "execution_count": null
    }
  ],
  "metadata": {
    "kernelspec": {
      "display_name": "Python 3",
      "name": "python3"
    },
    "language_info": {
      "codemirror_mode": {
        "name": "ipython",
        "version": 2
      },
      "file_extension": ".py",
      "mimetype": "text/x-python",
      "name": "python",
      "nbconvert_exporter": "python",
      "pygments_lexer": "ipython2",
      "version": "2.7.6"
    },
    "colab": {
      "provenance": [],
      "gpuType": "T4",
      "include_colab_link": true
    },
    "accelerator": "GPU",
    "widgets": {
      "application/vnd.jupyter.widget-state+json": {
        "59ca4a87484841dc8457d74af40fd2d0": {
          "model_module": "@jupyter-widgets/controls",
          "model_name": "HBoxModel",
          "model_module_version": "1.5.0",
          "state": {
            "_dom_classes": [],
            "_model_module": "@jupyter-widgets/controls",
            "_model_module_version": "1.5.0",
            "_model_name": "HBoxModel",
            "_view_count": null,
            "_view_module": "@jupyter-widgets/controls",
            "_view_module_version": "1.5.0",
            "_view_name": "HBoxView",
            "box_style": "",
            "children": [
              "IPY_MODEL_bba6c860609a4b03bd1aa8ba983f96bb",
              "IPY_MODEL_ae19694bf4df40a68dbdd5b71a71ffa2",
              "IPY_MODEL_e918c6e4ed824c549f6f90d6191f9d34"
            ],
            "layout": "IPY_MODEL_34c092ee9b304e76a586836b9e4a895e"
          }
        },
        "bba6c860609a4b03bd1aa8ba983f96bb": {
          "model_module": "@jupyter-widgets/controls",
          "model_name": "HTMLModel",
          "model_module_version": "1.5.0",
          "state": {
            "_dom_classes": [],
            "_model_module": "@jupyter-widgets/controls",
            "_model_module_version": "1.5.0",
            "_model_name": "HTMLModel",
            "_view_count": null,
            "_view_module": "@jupyter-widgets/controls",
            "_view_module_version": "1.5.0",
            "_view_name": "HTMLView",
            "description": "",
            "description_tooltip": null,
            "layout": "IPY_MODEL_de0f5fa8dc33435d9dd804223b64157e",
            "placeholder": "​",
            "style": "IPY_MODEL_0d95110a1ff7412aaa99e543de6c07f4",
            "value": "  0%"
          }
        },
        "ae19694bf4df40a68dbdd5b71a71ffa2": {
          "model_module": "@jupyter-widgets/controls",
          "model_name": "FloatProgressModel",
          "model_module_version": "1.5.0",
          "state": {
            "_dom_classes": [],
            "_model_module": "@jupyter-widgets/controls",
            "_model_module_version": "1.5.0",
            "_model_name": "FloatProgressModel",
            "_view_count": null,
            "_view_module": "@jupyter-widgets/controls",
            "_view_module_version": "1.5.0",
            "_view_name": "ProgressView",
            "bar_style": "",
            "description": "",
            "description_tooltip": null,
            "layout": "IPY_MODEL_b172f77baf344b28a44fb4e112075667",
            "max": 550,
            "min": 0,
            "orientation": "horizontal",
            "style": "IPY_MODEL_a122ff4e746e498299991a65ab792a78",
            "value": 1
          }
        },
        "e918c6e4ed824c549f6f90d6191f9d34": {
          "model_module": "@jupyter-widgets/controls",
          "model_name": "HTMLModel",
          "model_module_version": "1.5.0",
          "state": {
            "_dom_classes": [],
            "_model_module": "@jupyter-widgets/controls",
            "_model_module_version": "1.5.0",
            "_model_name": "HTMLModel",
            "_view_count": null,
            "_view_module": "@jupyter-widgets/controls",
            "_view_module_version": "1.5.0",
            "_view_name": "HTMLView",
            "description": "",
            "description_tooltip": null,
            "layout": "IPY_MODEL_6f1abf8e5008426ca363e4b4ad104bf1",
            "placeholder": "​",
            "style": "IPY_MODEL_f9d7668d94a74ef5a0658874e98d8abb",
            "value": " 0/550 [00:00&lt;?, ?it/s]"
          }
        },
        "34c092ee9b304e76a586836b9e4a895e": {
          "model_module": "@jupyter-widgets/base",
          "model_name": "LayoutModel",
          "model_module_version": "1.2.0",
          "state": {
            "_model_module": "@jupyter-widgets/base",
            "_model_module_version": "1.2.0",
            "_model_name": "LayoutModel",
            "_view_count": null,
            "_view_module": "@jupyter-widgets/base",
            "_view_module_version": "1.2.0",
            "_view_name": "LayoutView",
            "align_content": null,
            "align_items": null,
            "align_self": null,
            "border": null,
            "bottom": null,
            "display": null,
            "flex": null,
            "flex_flow": null,
            "grid_area": null,
            "grid_auto_columns": null,
            "grid_auto_flow": null,
            "grid_auto_rows": null,
            "grid_column": null,
            "grid_gap": null,
            "grid_row": null,
            "grid_template_areas": null,
            "grid_template_columns": null,
            "grid_template_rows": null,
            "height": null,
            "justify_content": null,
            "justify_items": null,
            "left": null,
            "margin": null,
            "max_height": null,
            "max_width": null,
            "min_height": null,
            "min_width": null,
            "object_fit": null,
            "object_position": null,
            "order": null,
            "overflow": null,
            "overflow_x": null,
            "overflow_y": null,
            "padding": null,
            "right": null,
            "top": null,
            "visibility": null,
            "width": null
          }
        },
        "de0f5fa8dc33435d9dd804223b64157e": {
          "model_module": "@jupyter-widgets/base",
          "model_name": "LayoutModel",
          "model_module_version": "1.2.0",
          "state": {
            "_model_module": "@jupyter-widgets/base",
            "_model_module_version": "1.2.0",
            "_model_name": "LayoutModel",
            "_view_count": null,
            "_view_module": "@jupyter-widgets/base",
            "_view_module_version": "1.2.0",
            "_view_name": "LayoutView",
            "align_content": null,
            "align_items": null,
            "align_self": null,
            "border": null,
            "bottom": null,
            "display": null,
            "flex": null,
            "flex_flow": null,
            "grid_area": null,
            "grid_auto_columns": null,
            "grid_auto_flow": null,
            "grid_auto_rows": null,
            "grid_column": null,
            "grid_gap": null,
            "grid_row": null,
            "grid_template_areas": null,
            "grid_template_columns": null,
            "grid_template_rows": null,
            "height": null,
            "justify_content": null,
            "justify_items": null,
            "left": null,
            "margin": null,
            "max_height": null,
            "max_width": null,
            "min_height": null,
            "min_width": null,
            "object_fit": null,
            "object_position": null,
            "order": null,
            "overflow": null,
            "overflow_x": null,
            "overflow_y": null,
            "padding": null,
            "right": null,
            "top": null,
            "visibility": null,
            "width": null
          }
        },
        "0d95110a1ff7412aaa99e543de6c07f4": {
          "model_module": "@jupyter-widgets/controls",
          "model_name": "DescriptionStyleModel",
          "model_module_version": "1.5.0",
          "state": {
            "_model_module": "@jupyter-widgets/controls",
            "_model_module_version": "1.5.0",
            "_model_name": "DescriptionStyleModel",
            "_view_count": null,
            "_view_module": "@jupyter-widgets/base",
            "_view_module_version": "1.2.0",
            "_view_name": "StyleView",
            "description_width": ""
          }
        },
        "b172f77baf344b28a44fb4e112075667": {
          "model_module": "@jupyter-widgets/base",
          "model_name": "LayoutModel",
          "model_module_version": "1.2.0",
          "state": {
            "_model_module": "@jupyter-widgets/base",
            "_model_module_version": "1.2.0",
            "_model_name": "LayoutModel",
            "_view_count": null,
            "_view_module": "@jupyter-widgets/base",
            "_view_module_version": "1.2.0",
            "_view_name": "LayoutView",
            "align_content": null,
            "align_items": null,
            "align_self": null,
            "border": null,
            "bottom": null,
            "display": null,
            "flex": null,
            "flex_flow": null,
            "grid_area": null,
            "grid_auto_columns": null,
            "grid_auto_flow": null,
            "grid_auto_rows": null,
            "grid_column": null,
            "grid_gap": null,
            "grid_row": null,
            "grid_template_areas": null,
            "grid_template_columns": null,
            "grid_template_rows": null,
            "height": null,
            "justify_content": null,
            "justify_items": null,
            "left": null,
            "margin": null,
            "max_height": null,
            "max_width": null,
            "min_height": null,
            "min_width": null,
            "object_fit": null,
            "object_position": null,
            "order": null,
            "overflow": null,
            "overflow_x": null,
            "overflow_y": null,
            "padding": null,
            "right": null,
            "top": null,
            "visibility": null,
            "width": null
          }
        },
        "a122ff4e746e498299991a65ab792a78": {
          "model_module": "@jupyter-widgets/controls",
          "model_name": "ProgressStyleModel",
          "model_module_version": "1.5.0",
          "state": {
            "_model_module": "@jupyter-widgets/controls",
            "_model_module_version": "1.5.0",
            "_model_name": "ProgressStyleModel",
            "_view_count": null,
            "_view_module": "@jupyter-widgets/base",
            "_view_module_version": "1.2.0",
            "_view_name": "StyleView",
            "bar_color": null,
            "description_width": ""
          }
        },
        "6f1abf8e5008426ca363e4b4ad104bf1": {
          "model_module": "@jupyter-widgets/base",
          "model_name": "LayoutModel",
          "model_module_version": "1.2.0",
          "state": {
            "_model_module": "@jupyter-widgets/base",
            "_model_module_version": "1.2.0",
            "_model_name": "LayoutModel",
            "_view_count": null,
            "_view_module": "@jupyter-widgets/base",
            "_view_module_version": "1.2.0",
            "_view_name": "LayoutView",
            "align_content": null,
            "align_items": null,
            "align_self": null,
            "border": null,
            "bottom": null,
            "display": null,
            "flex": null,
            "flex_flow": null,
            "grid_area": null,
            "grid_auto_columns": null,
            "grid_auto_flow": null,
            "grid_auto_rows": null,
            "grid_column": null,
            "grid_gap": null,
            "grid_row": null,
            "grid_template_areas": null,
            "grid_template_columns": null,
            "grid_template_rows": null,
            "height": null,
            "justify_content": null,
            "justify_items": null,
            "left": null,
            "margin": null,
            "max_height": null,
            "max_width": null,
            "min_height": null,
            "min_width": null,
            "object_fit": null,
            "object_position": null,
            "order": null,
            "overflow": null,
            "overflow_x": null,
            "overflow_y": null,
            "padding": null,
            "right": null,
            "top": null,
            "visibility": null,
            "width": null
          }
        },
        "f9d7668d94a74ef5a0658874e98d8abb": {
          "model_module": "@jupyter-widgets/controls",
          "model_name": "DescriptionStyleModel",
          "model_module_version": "1.5.0",
          "state": {
            "_model_module": "@jupyter-widgets/controls",
            "_model_module_version": "1.5.0",
            "_model_name": "DescriptionStyleModel",
            "_view_count": null,
            "_view_module": "@jupyter-widgets/base",
            "_view_module_version": "1.2.0",
            "_view_name": "StyleView",
            "description_width": ""
          }
        }
      }
    }
  },
  "nbformat": 4,
  "nbformat_minor": 5
}